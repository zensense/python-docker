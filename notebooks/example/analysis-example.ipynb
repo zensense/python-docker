{
 "cells": [
  {
   "cell_type": "markdown",
   "id": "60fe76c9",
   "metadata": {},
   "source": [
    "## This is a header"
   ]
  },
  {
   "cell_type": "code",
   "execution_count": 3,
   "id": "6f5038db",
   "metadata": {},
   "outputs": [
    {
     "name": "stdout",
     "output_type": "stream",
     "text": [
      "What time is it? PeanutButter Jelly TIME!!\n"
     ]
    }
   ],
   "source": [
    "# Starter code block\n",
    "\n",
    "sandwiches=\"PeanutButter Jelly TIME!!\"\n",
    "\n",
    "print(\"What time is it? {}\".format(sandwiches))"
   ]
  },
  {
   "cell_type": "code",
   "execution_count": 1,
   "id": "0e483ecd",
   "metadata": {},
   "outputs": [
    {
     "name": "stdout",
     "output_type": "stream",
     "text": [
      "total 1752\n",
      "drwxr-xr-x 7 root root     224 Nov 25 13:37 .\n",
      "drwxr-xr-x 1 root root    4096 Nov 25 13:45 ..\n",
      "drwxr-xr-x 3 root root      96 Nov 25 12:32 .ipynb_checkpoints\n",
      "-rw-r--r-- 1 root root 1780580 Nov 25 13:06 Sample_preparation_and_analysis.pdf\n",
      "-rw-r--r-- 1 root root    2813 Nov 25 13:45 analysis-example.ipynb\n",
      "-rw-r--r-- 1 root root     430 Nov 25 07:37 begin-here.md\n",
      "drwxr-xr-x 3 root root      96 Nov 25 12:54 packages\n",
      "Completed!\n"
     ]
    }
   ],
   "source": [
    "# More advanced\n",
    "# How to use bash through Python\n",
    "\n",
    "import subprocess\n",
    "\n",
    "process = subprocess.Popen([\"ls\", \"-la\"])\n",
    "process.wait()\n",
    "\n",
    "print(\"Completed!\")\n"
   ]
  },
  {
   "cell_type": "code",
   "execution_count": 2,
   "id": "80853d77",
   "metadata": {},
   "outputs": [
    {
     "ename": "SyntaxError",
     "evalue": "Missing parentheses in call to 'print'. Did you mean print(...)? (object_builder.py, line 47)",
     "output_type": "error",
     "traceback": [
      "Traceback \u001b[0;36m(most recent call last)\u001b[0m:\n",
      "\u001b[0m  File \u001b[1;32m/usr/local/lib/python3.10/site-packages/IPython/core/interactiveshell.py:3433\u001b[0m in \u001b[1;35mrun_code\u001b[0m\n    exec(code_obj, self.user_global_ns, self.user_ns)\u001b[0m\n",
      "\u001b[0;36m  Cell \u001b[0;32mIn [2], line 6\u001b[0;36m\n\u001b[0;31m    from packages.pdfxray.lib.object_builder import *\u001b[0;36m\n",
      "\u001b[0;36m  File \u001b[0;32m/usr/src/notebooks/packages/pdfxray/lib/object_builder.py:47\u001b[0;36m\u001b[0m\n\u001b[0;31m    print \"VT failed for \" + str(file)\u001b[0m\n\u001b[0m    ^\u001b[0m\n\u001b[0;31mSyntaxError\u001b[0m\u001b[0;31m:\u001b[0m Missing parentheses in call to 'print'. Did you mean print(...)?\n"
     ]
    }
   ],
   "source": [
    "# Use pdfxray package to analyze a PDF\n",
    "# PDF has been uploaded to the notebooks directory\n",
    "# The pdfxray package is located in src/packages/pdfxray (see tree in the Jupyter tree GUI)\n",
    "# WIP\n",
    "\n",
    "from packages.pdfxray.lib.object_builder import *\n",
    "import packages.pdfxray.lib.malobjclass as malobjclass\n",
    "\n",
    "import simplejson as json\n",
    "import optparse\n",
    "\n",
    "pdffile = \"./Sample_preparation_and_analysis.pdf\"\n",
    "output = build_obj(options.pdffile)\n",
    "pdf = malobjclass.jPdf(json.loads(output))\n",
    "user_land(pdf)\n",
    "if options.report:\n",
    "    pdf.make_report(pdf,options.report)\n",
    "    \n",
    "# this code will not work because pdfxray is waayyy too old\n",
    "\n"
   ]
  },
  {
   "cell_type": "code",
   "execution_count": null,
   "id": "0accff4c",
   "metadata": {},
   "outputs": [],
   "source": []
  }
 ],
 "metadata": {
  "kernelspec": {
   "display_name": "Python 3 (ipykernel)",
   "language": "python",
   "name": "python3"
  },
  "language_info": {
   "codemirror_mode": {
    "name": "ipython",
    "version": 3
   },
   "file_extension": ".py",
   "mimetype": "text/x-python",
   "name": "python",
   "nbconvert_exporter": "python",
   "pygments_lexer": "ipython3",
   "version": "3.10.8"
  },
  "vscode": {
   "interpreter": {
    "hash": "9f23921df674cce7a4f267a7271a49008349143b0c8a8b7ee2099308663e328c"
   }
  }
 },
 "nbformat": 4,
 "nbformat_minor": 5
}
